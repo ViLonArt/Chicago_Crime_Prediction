{
  "cells": [
    {
      "cell_type": "markdown",
      "metadata": {
        "id": "view-in-github",
        "colab_type": "text"
      },
      "source": [
        "<a href=\"https://colab.research.google.com/github/deborahdjon/CA683_Group_Project/blob/main/Chicago_Crime_Records_Knn.ipynb\" target=\"_parent\"><img src=\"https://colab.research.google.com/assets/colab-badge.svg\" alt=\"Open In Colab\"/></a>"
      ]
    },
    {
      "cell_type": "markdown",
      "metadata": {
        "id": "pjQRTsJzHRLi"
      },
      "source": [
        "# **Initial Load**\n",
        "\n"
      ]
    },
    {
      "cell_type": "code",
      "execution_count": 24,
      "metadata": {
        "id": "PHJRNlJw-4x5"
      },
      "outputs": [],
      "source": [
        "#libraries import\n",
        "import pandas as pd\n",
        "import numpy as np\n",
        "import matplotlib.pyplot as plt\n",
        "import seaborn as sns\n",
        "\n",
        "from sklearn.preprocessing import OneHotEncoder\n",
        "from sklearn.preprocessing import StandardScaler\n",
        "\n",
        "from sklearn.metrics import accuracy_score\n",
        "from sklearn.metrics import multilabel_confusion_matrix\n",
        "from sklearn.metrics import confusion_matrix\n",
        "\n",
        "from sklearn.model_selection import train_test_split\n",
        "from sklearn.model_selection import validation_curve\n",
        "from sklearn.model_selection import GridSearchCV\n",
        "\n",
        "from sklearn.neighbors import KNeighborsClassifier\n",
        "\n",
        "\n",
        "from sklearn.feature_selection import SelectKBest\n",
        "from sklearn.feature_selection import chi2"
      ]
    },
    {
      "cell_type": "code",
      "execution_count": 2,
      "metadata": {
        "id": "e33YZKsNHW97",
        "tags": [],
        "colab": {
          "base_uri": "https://localhost:8080/"
        },
        "outputId": "45b56343-dffc-4097-d2be-b3765399e623"
      },
      "outputs": [
        {
          "output_type": "stream",
          "name": "stderr",
          "text": [
            "/usr/local/lib/python3.8/dist-packages/IPython/core/interactiveshell.py:3326: DtypeWarning: Columns (8,9) have mixed types.Specify dtype option on import or set low_memory=False.\n",
            "  exec(code_obj, self.user_global_ns, self.user_ns)\n"
          ]
        }
      ],
      "source": [
        "# Download our dataset from localy\n",
        "chicago_crime_records = pd.read_csv('ChicagoCrimeRecords.csv')"
      ]
    },
    {
      "cell_type": "markdown",
      "metadata": {
        "id": "Vt98q9a6_fVk"
      },
      "source": [
        "### Pre-Processing the data"
      ]
    },
    {
      "cell_type": "code",
      "execution_count": 3,
      "metadata": {
        "id": "G9qRluck9yMg"
      },
      "outputs": [],
      "source": [
        "# Drop any NANs before we begin.\n",
        "chicago_crime_records.dropna(inplace = True)"
      ]
    },
    {
      "cell_type": "code",
      "execution_count": 4,
      "metadata": {
        "id": "86FIEUW_Yp_j"
      },
      "outputs": [],
      "source": [
        "#Drop duplicates if there are any\n",
        "chicago_crime_records.drop_duplicates(inplace=True)"
      ]
    },
    {
      "cell_type": "code",
      "execution_count": 5,
      "metadata": {
        "colab": {
          "base_uri": "https://localhost:8080/"
        },
        "id": "p7VDmuEV_jas",
        "outputId": "97dd4ec3-83de-488f-c9d6-f988d64237ce"
      },
      "outputs": [
        {
          "output_type": "execute_result",
          "data": {
            "text/plain": [
              "Index(['Arrest', 'Beat', 'Block', 'Case Number', 'Community Area', 'Date',\n",
              "       'Description', 'District', 'Domestic', 'FBI Code', 'ID', 'IUCR',\n",
              "       'Latitude', 'Location', 'Location Description', 'Longitude',\n",
              "       'Primary Type', 'Updated On', 'Ward', 'X Coordinate', 'Y Coordinate',\n",
              "       'Year'],\n",
              "      dtype='object')"
            ]
          },
          "metadata": {},
          "execution_count": 5
        }
      ],
      "source": [
        "# Take a look at all of the columns in our dataset.\n",
        "chicago_crime_records.columns.sort_values()"
      ]
    },
    {
      "cell_type": "code",
      "execution_count": 6,
      "metadata": {
        "colab": {
          "base_uri": "https://localhost:8080/"
        },
        "id": "knDIEc38Yp_n",
        "outputId": "c95a048b-6310-4e9f-84b6-0fa226aa5dd9"
      },
      "outputs": [
        {
          "output_type": "execute_result",
          "data": {
            "text/plain": [
              "ID                        int64\n",
              "Case Number              object\n",
              "Date                     object\n",
              "Block                    object\n",
              "IUCR                     object\n",
              "Primary Type             object\n",
              "Description              object\n",
              "Location Description     object\n",
              "Arrest                   object\n",
              "Domestic                 object\n",
              "Beat                    float64\n",
              "District                float64\n",
              "Ward                    float64\n",
              "Community Area          float64\n",
              "FBI Code                 object\n",
              "X Coordinate            float64\n",
              "Y Coordinate            float64\n",
              "Year                    float64\n",
              "Updated On               object\n",
              "Latitude                float64\n",
              "Longitude               float64\n",
              "Location                 object\n",
              "dtype: object"
            ]
          },
          "metadata": {},
          "execution_count": 6
        }
      ],
      "source": [
        "chicago_crime_records.dtypes"
      ]
    },
    {
      "cell_type": "code",
      "execution_count": 7,
      "metadata": {
        "id": "QCKsnAzqYp_t"
      },
      "outputs": [],
      "source": [
        "# Remove any columns that we are confident will not be of any use to our model.\n",
        "chicago_crime_records.drop(\n",
        "    columns = ['Case Number', 'Date', 'Description', 'ID', 'Updated On', 'Year'],\n",
        "    axis = 1,\n",
        "    inplace = True,\n",
        "    errors = 'ignore')"
      ]
    },
    {
      "cell_type": "code",
      "execution_count": 8,
      "metadata": {
        "colab": {
          "base_uri": "https://localhost:8080/"
        },
        "id": "L77-dH1WYp_u",
        "outputId": "a66061b5-32a4-4132-aa09-c8274d22a82e"
      },
      "outputs": [
        {
          "output_type": "execute_result",
          "data": {
            "text/plain": [
              "Index(['Arrest', 'Beat', 'Block', 'Community Area', 'District', 'Domestic',\n",
              "       'FBI Code', 'IUCR', 'Latitude', 'Location', 'Location Description',\n",
              "       'Longitude', 'Primary Type', 'Ward', 'X Coordinate', 'Y Coordinate'],\n",
              "      dtype='object')"
            ]
          },
          "metadata": {},
          "execution_count": 8
        }
      ],
      "source": [
        "# Take a look at all of the columns left in our dataset.\n",
        "chicago_crime_records.columns.sort_values()"
      ]
    },
    {
      "cell_type": "code",
      "execution_count": 9,
      "metadata": {
        "id": "Barq_M9SYp_v"
      },
      "outputs": [],
      "source": [
        "#Encoding our columns\n",
        "chicago_crime_records['Arrest'] = chicago_crime_records['Arrest'].astype(int)\n",
        "chicago_crime_records['Domestic'] = chicago_crime_records['Domestic'].astype(int)\n",
        "\n",
        "chicago_crime_records['Location Description_CODE'] = chicago_crime_records['Location Description'].astype('category').cat.codes\n",
        "\n",
        "chicago_crime_records['Block_CODE']=chicago_crime_records['Block'].astype('category').cat.codes\n",
        "\n",
        "chicago_crime_records['Community Area']=chicago_crime_records['Community Area'].astype(int)\n",
        "chicago_crime_records['District']=chicago_crime_records['District'].astype(int)\n",
        "\n",
        "chicago_crime_records['FBI Code_CODE']=chicago_crime_records['FBI Code'].astype('category').cat.codes\n",
        "chicago_crime_records['IUCR_CODE']=chicago_crime_records['IUCR'].astype('category').cat.codes\n"
      ]
    },
    {
      "cell_type": "code",
      "execution_count": 10,
      "metadata": {
        "id": "HRBGAFgrYp_x"
      },
      "outputs": [],
      "source": [
        "df_ccr=chicago_crime_records.drop(columns=['Location Description','Block','FBI Code','IUCR','Location'])"
      ]
    },
    {
      "cell_type": "code",
      "execution_count": 11,
      "metadata": {
        "colab": {
          "base_uri": "https://localhost:8080/",
          "height": 543
        },
        "id": "Ip6-lJVG_3Zf",
        "outputId": "4e8dd380-0ea3-49fe-8ad3-3a30ec7e1471",
        "scrolled": false
      },
      "outputs": [
        {
          "output_type": "execute_result",
          "data": {
            "text/plain": [
              "<pandas.io.formats.style.Styler at 0x7f6921ad5b20>"
            ],
            "text/html": [
              "<style type=\"text/css\">\n",
              "#T_1eb1f_row0_col0, #T_1eb1f_row1_col1, #T_1eb1f_row2_col2, #T_1eb1f_row2_col3, #T_1eb1f_row3_col2, #T_1eb1f_row3_col3, #T_1eb1f_row4_col4, #T_1eb1f_row5_col5, #T_1eb1f_row6_col6, #T_1eb1f_row6_col9, #T_1eb1f_row7_col7, #T_1eb1f_row7_col8, #T_1eb1f_row8_col7, #T_1eb1f_row8_col8, #T_1eb1f_row9_col6, #T_1eb1f_row9_col9, #T_1eb1f_row10_col10, #T_1eb1f_row11_col11, #T_1eb1f_row12_col12, #T_1eb1f_row13_col13 {\n",
              "  background-color: #b40426;\n",
              "  color: #f1f1f1;\n",
              "}\n",
              "#T_1eb1f_row0_col1, #T_1eb1f_row5_col13 {\n",
              "  background-color: #5d7ce6;\n",
              "  color: #f1f1f1;\n",
              "}\n",
              "#T_1eb1f_row0_col2, #T_1eb1f_row0_col3, #T_1eb1f_row10_col6, #T_1eb1f_row13_col4 {\n",
              "  background-color: #afcafc;\n",
              "  color: #000000;\n",
              "}\n",
              "#T_1eb1f_row0_col4, #T_1eb1f_row1_col11, #T_1eb1f_row12_col4 {\n",
              "  background-color: #adc9fd;\n",
              "  color: #000000;\n",
              "}\n",
              "#T_1eb1f_row0_col5 {\n",
              "  background-color: #d1dae9;\n",
              "  color: #000000;\n",
              "}\n",
              "#T_1eb1f_row0_col6 {\n",
              "  background-color: #abc8fd;\n",
              "  color: #000000;\n",
              "}\n",
              "#T_1eb1f_row0_col7, #T_1eb1f_row0_col8, #T_1eb1f_row12_col7, #T_1eb1f_row12_col8 {\n",
              "  background-color: #c7d7f0;\n",
              "  color: #000000;\n",
              "}\n",
              "#T_1eb1f_row0_col9 {\n",
              "  background-color: #aac7fd;\n",
              "  color: #000000;\n",
              "}\n",
              "#T_1eb1f_row0_col10, #T_1eb1f_row2_col11, #T_1eb1f_row3_col11 {\n",
              "  background-color: #7a9df8;\n",
              "  color: #f1f1f1;\n",
              "}\n",
              "#T_1eb1f_row0_col11 {\n",
              "  background-color: #90b2fe;\n",
              "  color: #000000;\n",
              "}\n",
              "#T_1eb1f_row0_col12 {\n",
              "  background-color: #c0d4f5;\n",
              "  color: #000000;\n",
              "}\n",
              "#T_1eb1f_row0_col13, #T_1eb1f_row1_col7, #T_1eb1f_row1_col8 {\n",
              "  background-color: #bcd2f7;\n",
              "  color: #000000;\n",
              "}\n",
              "#T_1eb1f_row1_col0, #T_1eb1f_row1_col10, #T_1eb1f_row1_col13, #T_1eb1f_row2_col6, #T_1eb1f_row2_col9, #T_1eb1f_row3_col6, #T_1eb1f_row3_col9, #T_1eb1f_row5_col4, #T_1eb1f_row5_col7, #T_1eb1f_row5_col8, #T_1eb1f_row6_col2, #T_1eb1f_row6_col3, #T_1eb1f_row6_col12, #T_1eb1f_row7_col5, #T_1eb1f_row7_col6, #T_1eb1f_row7_col11, #T_1eb1f_row8_col5, #T_1eb1f_row8_col6, #T_1eb1f_row8_col9, #T_1eb1f_row8_col11, #T_1eb1f_row9_col2, #T_1eb1f_row9_col3, #T_1eb1f_row9_col12, #T_1eb1f_row10_col1 {\n",
              "  background-color: #3b4cc0;\n",
              "  color: #f1f1f1;\n",
              "}\n",
              "#T_1eb1f_row1_col2, #T_1eb1f_row1_col3 {\n",
              "  background-color: #a9c6fd;\n",
              "  color: #000000;\n",
              "}\n",
              "#T_1eb1f_row1_col4 {\n",
              "  background-color: #a1c0ff;\n",
              "  color: #000000;\n",
              "}\n",
              "#T_1eb1f_row1_col5 {\n",
              "  background-color: #d7dce3;\n",
              "  color: #000000;\n",
              "}\n",
              "#T_1eb1f_row1_col6, #T_1eb1f_row1_col9, #T_1eb1f_row12_col2, #T_1eb1f_row12_col3 {\n",
              "  background-color: #b5cdfa;\n",
              "  color: #000000;\n",
              "}\n",
              "#T_1eb1f_row1_col12 {\n",
              "  background-color: #516ddb;\n",
              "  color: #f1f1f1;\n",
              "}\n",
              "#T_1eb1f_row2_col0, #T_1eb1f_row3_col0, #T_1eb1f_row4_col0 {\n",
              "  background-color: #4358cb;\n",
              "  color: #f1f1f1;\n",
              "}\n",
              "#T_1eb1f_row2_col1, #T_1eb1f_row3_col1 {\n",
              "  background-color: #5e7de7;\n",
              "  color: #f1f1f1;\n",
              "}\n",
              "#T_1eb1f_row2_col4, #T_1eb1f_row3_col4 {\n",
              "  background-color: #ef886b;\n",
              "  color: #f1f1f1;\n",
              "}\n",
              "#T_1eb1f_row2_col5 {\n",
              "  background-color: #6f92f3;\n",
              "  color: #f1f1f1;\n",
              "}\n",
              "#T_1eb1f_row2_col7, #T_1eb1f_row2_col8, #T_1eb1f_row3_col7, #T_1eb1f_row3_col8, #T_1eb1f_row4_col2, #T_1eb1f_row4_col3 {\n",
              "  background-color: #ee8669;\n",
              "  color: #f1f1f1;\n",
              "}\n",
              "#T_1eb1f_row2_col10, #T_1eb1f_row3_col10, #T_1eb1f_row11_col10, #T_1eb1f_row12_col1 {\n",
              "  background-color: #7093f3;\n",
              "  color: #f1f1f1;\n",
              "}\n",
              "#T_1eb1f_row2_col12, #T_1eb1f_row3_col12, #T_1eb1f_row4_col6, #T_1eb1f_row4_col9 {\n",
              "  background-color: #4e68d8;\n",
              "  color: #f1f1f1;\n",
              "}\n",
              "#T_1eb1f_row2_col13, #T_1eb1f_row3_col13 {\n",
              "  background-color: #5977e3;\n",
              "  color: #f1f1f1;\n",
              "}\n",
              "#T_1eb1f_row3_col5, #T_1eb1f_row5_col10, #T_1eb1f_row6_col1 {\n",
              "  background-color: #6e90f2;\n",
              "  color: #f1f1f1;\n",
              "}\n",
              "#T_1eb1f_row4_col1, #T_1eb1f_row5_col12, #T_1eb1f_row10_col0, #T_1eb1f_row10_col12, #T_1eb1f_row11_col13 {\n",
              "  background-color: #5875e1;\n",
              "  color: #f1f1f1;\n",
              "}\n",
              "#T_1eb1f_row4_col5, #T_1eb1f_row6_col10, #T_1eb1f_row9_col10 {\n",
              "  background-color: #6485ec;\n",
              "  color: #f1f1f1;\n",
              "}\n",
              "#T_1eb1f_row4_col7, #T_1eb1f_row4_col8 {\n",
              "  background-color: #ec7f63;\n",
              "  color: #f1f1f1;\n",
              "}\n",
              "#T_1eb1f_row4_col10 {\n",
              "  background-color: #688aef;\n",
              "  color: #f1f1f1;\n",
              "}\n",
              "#T_1eb1f_row4_col11 {\n",
              "  background-color: #6788ee;\n",
              "  color: #f1f1f1;\n",
              "}\n",
              "#T_1eb1f_row4_col12, #T_1eb1f_row5_col2, #T_1eb1f_row5_col3 {\n",
              "  background-color: #485fd1;\n",
              "  color: #f1f1f1;\n",
              "}\n",
              "#T_1eb1f_row4_col13 {\n",
              "  background-color: #5470de;\n",
              "  color: #f1f1f1;\n",
              "}\n",
              "#T_1eb1f_row5_col0, #T_1eb1f_row13_col1 {\n",
              "  background-color: #4f69d9;\n",
              "  color: #f1f1f1;\n",
              "}\n",
              "#T_1eb1f_row5_col1 {\n",
              "  background-color: #7ea1fa;\n",
              "  color: #f1f1f1;\n",
              "}\n",
              "#T_1eb1f_row5_col6 {\n",
              "  background-color: #e4d9d2;\n",
              "  color: #000000;\n",
              "}\n",
              "#T_1eb1f_row5_col9 {\n",
              "  background-color: #e2dad5;\n",
              "  color: #000000;\n",
              "}\n",
              "#T_1eb1f_row5_col11 {\n",
              "  background-color: #e9d5cb;\n",
              "  color: #000000;\n",
              "}\n",
              "#T_1eb1f_row6_col0, #T_1eb1f_row9_col0 {\n",
              "  background-color: #3d50c3;\n",
              "  color: #f1f1f1;\n",
              "}\n",
              "#T_1eb1f_row6_col4 {\n",
              "  background-color: #4a63d3;\n",
              "  color: #f1f1f1;\n",
              "}\n",
              "#T_1eb1f_row6_col5 {\n",
              "  background-color: #f0cdbb;\n",
              "  color: #000000;\n",
              "}\n",
              "#T_1eb1f_row6_col7, #T_1eb1f_row6_col8, #T_1eb1f_row7_col10, #T_1eb1f_row8_col10 {\n",
              "  background-color: #6180e9;\n",
              "  color: #f1f1f1;\n",
              "}\n",
              "#T_1eb1f_row6_col11, #T_1eb1f_row13_col0 {\n",
              "  background-color: #b2ccfb;\n",
              "  color: #000000;\n",
              "}\n",
              "#T_1eb1f_row6_col13, #T_1eb1f_row7_col12, #T_1eb1f_row8_col12, #T_1eb1f_row9_col13 {\n",
              "  background-color: #445acc;\n",
              "  color: #f1f1f1;\n",
              "}\n",
              "#T_1eb1f_row7_col0, #T_1eb1f_row8_col0 {\n",
              "  background-color: #4055c8;\n",
              "  color: #f1f1f1;\n",
              "}\n",
              "#T_1eb1f_row7_col1, #T_1eb1f_row7_col13, #T_1eb1f_row8_col1, #T_1eb1f_row8_col13 {\n",
              "  background-color: #536edd;\n",
              "  color: #f1f1f1;\n",
              "}\n",
              "#T_1eb1f_row7_col2, #T_1eb1f_row8_col2 {\n",
              "  background-color: #f39475;\n",
              "  color: #000000;\n",
              "}\n",
              "#T_1eb1f_row7_col3, #T_1eb1f_row8_col3 {\n",
              "  background-color: #f29274;\n",
              "  color: #f1f1f1;\n",
              "}\n",
              "#T_1eb1f_row7_col4, #T_1eb1f_row8_col4 {\n",
              "  background-color: #f18d6f;\n",
              "  color: #f1f1f1;\n",
              "}\n",
              "#T_1eb1f_row7_col9 {\n",
              "  background-color: #3c4ec2;\n",
              "  color: #f1f1f1;\n",
              "}\n",
              "#T_1eb1f_row9_col1 {\n",
              "  background-color: #6c8ff1;\n",
              "  color: #f1f1f1;\n",
              "}\n",
              "#T_1eb1f_row9_col4 {\n",
              "  background-color: #4b64d5;\n",
              "  color: #f1f1f1;\n",
              "}\n",
              "#T_1eb1f_row9_col5 {\n",
              "  background-color: #efcfbf;\n",
              "  color: #000000;\n",
              "}\n",
              "#T_1eb1f_row9_col7 {\n",
              "  background-color: #6384eb;\n",
              "  color: #f1f1f1;\n",
              "}\n",
              "#T_1eb1f_row9_col8 {\n",
              "  background-color: #6282ea;\n",
              "  color: #f1f1f1;\n",
              "}\n",
              "#T_1eb1f_row9_col11 {\n",
              "  background-color: #b1cbfc;\n",
              "  color: #000000;\n",
              "}\n",
              "#T_1eb1f_row10_col2, #T_1eb1f_row10_col3 {\n",
              "  background-color: #b7cff9;\n",
              "  color: #000000;\n",
              "}\n",
              "#T_1eb1f_row10_col4, #T_1eb1f_row10_col9 {\n",
              "  background-color: #aec9fc;\n",
              "  color: #000000;\n",
              "}\n",
              "#T_1eb1f_row10_col5 {\n",
              "  background-color: #cdd9ec;\n",
              "  color: #000000;\n",
              "}\n",
              "#T_1eb1f_row10_col7, #T_1eb1f_row10_col8 {\n",
              "  background-color: #c6d6f1;\n",
              "  color: #000000;\n",
              "}\n",
              "#T_1eb1f_row10_col11 {\n",
              "  background-color: #9bbcff;\n",
              "  color: #000000;\n",
              "}\n",
              "#T_1eb1f_row10_col13 {\n",
              "  background-color: #6b8df0;\n",
              "  color: #f1f1f1;\n",
              "}\n",
              "#T_1eb1f_row11_col0 {\n",
              "  background-color: #4257c9;\n",
              "  color: #f1f1f1;\n",
              "}\n",
              "#T_1eb1f_row11_col1, #T_1eb1f_row11_col7, #T_1eb1f_row11_col8 {\n",
              "  background-color: #85a8fc;\n",
              "  color: #f1f1f1;\n",
              "}\n",
              "#T_1eb1f_row11_col2, #T_1eb1f_row11_col3, #T_1eb1f_row12_col11 {\n",
              "  background-color: #9dbdff;\n",
              "  color: #000000;\n",
              "}\n",
              "#T_1eb1f_row11_col4 {\n",
              "  background-color: #88abfd;\n",
              "  color: #000000;\n",
              "}\n",
              "#T_1eb1f_row11_col5 {\n",
              "  background-color: #f6bda2;\n",
              "  color: #000000;\n",
              "}\n",
              "#T_1eb1f_row11_col6 {\n",
              "  background-color: #cbd8ee;\n",
              "  color: #000000;\n",
              "}\n",
              "#T_1eb1f_row11_col9, #T_1eb1f_row13_col7, #T_1eb1f_row13_col8 {\n",
              "  background-color: #cad8ef;\n",
              "  color: #000000;\n",
              "}\n",
              "#T_1eb1f_row11_col12 {\n",
              "  background-color: #5572df;\n",
              "  color: #f1f1f1;\n",
              "}\n",
              "#T_1eb1f_row12_col0 {\n",
              "  background-color: #bed2f6;\n",
              "  color: #000000;\n",
              "}\n",
              "#T_1eb1f_row12_col5 {\n",
              "  background-color: #d2dbe8;\n",
              "  color: #000000;\n",
              "}\n",
              "#T_1eb1f_row12_col6, #T_1eb1f_row12_col9, #T_1eb1f_row13_col9 {\n",
              "  background-color: #a5c3fe;\n",
              "  color: #000000;\n",
              "}\n",
              "#T_1eb1f_row12_col10 {\n",
              "  background-color: #7699f6;\n",
              "  color: #f1f1f1;\n",
              "}\n",
              "#T_1eb1f_row12_col13 {\n",
              "  background-color: #de614d;\n",
              "  color: #f1f1f1;\n",
              "}\n",
              "#T_1eb1f_row13_col2, #T_1eb1f_row13_col3 {\n",
              "  background-color: #b6cefa;\n",
              "  color: #000000;\n",
              "}\n",
              "#T_1eb1f_row13_col5 {\n",
              "  background-color: #cfdaea;\n",
              "  color: #000000;\n",
              "}\n",
              "#T_1eb1f_row13_col6 {\n",
              "  background-color: #a6c4fe;\n",
              "  color: #000000;\n",
              "}\n",
              "#T_1eb1f_row13_col10 {\n",
              "  background-color: #80a3fa;\n",
              "  color: #f1f1f1;\n",
              "}\n",
              "#T_1eb1f_row13_col11 {\n",
              "  background-color: #97b8ff;\n",
              "  color: #000000;\n",
              "}\n",
              "#T_1eb1f_row13_col12 {\n",
              "  background-color: #df634e;\n",
              "  color: #f1f1f1;\n",
              "}\n",
              "</style>\n",
              "<table id=\"T_1eb1f_\" class=\"dataframe\">\n",
              "  <thead>\n",
              "    <tr>\n",
              "      <th class=\"blank level0\" >&nbsp;</th>\n",
              "      <th class=\"col_heading level0 col0\" >Arrest</th>\n",
              "      <th class=\"col_heading level0 col1\" >Domestic</th>\n",
              "      <th class=\"col_heading level0 col2\" >Beat</th>\n",
              "      <th class=\"col_heading level0 col3\" >District</th>\n",
              "      <th class=\"col_heading level0 col4\" >Ward</th>\n",
              "      <th class=\"col_heading level0 col5\" >Community Area</th>\n",
              "      <th class=\"col_heading level0 col6\" >X Coordinate</th>\n",
              "      <th class=\"col_heading level0 col7\" >Y Coordinate</th>\n",
              "      <th class=\"col_heading level0 col8\" >Latitude</th>\n",
              "      <th class=\"col_heading level0 col9\" >Longitude</th>\n",
              "      <th class=\"col_heading level0 col10\" >Location Description_CODE</th>\n",
              "      <th class=\"col_heading level0 col11\" >Block_CODE</th>\n",
              "      <th class=\"col_heading level0 col12\" >FBI Code_CODE</th>\n",
              "      <th class=\"col_heading level0 col13\" >IUCR_CODE</th>\n",
              "    </tr>\n",
              "  </thead>\n",
              "  <tbody>\n",
              "    <tr>\n",
              "      <th id=\"T_1eb1f_level0_row0\" class=\"row_heading level0 row0\" >Arrest</th>\n",
              "      <td id=\"T_1eb1f_row0_col0\" class=\"data row0 col0\" >1.000000</td>\n",
              "      <td id=\"T_1eb1f_row0_col1\" class=\"data row0 col1\" >-0.047398</td>\n",
              "      <td id=\"T_1eb1f_row0_col2\" class=\"data row0 col2\" >-0.014827</td>\n",
              "      <td id=\"T_1eb1f_row0_col3\" class=\"data row0 col3\" >-0.014825</td>\n",
              "      <td id=\"T_1eb1f_row0_col4\" class=\"data row0 col4\" >-0.015177</td>\n",
              "      <td id=\"T_1eb1f_row0_col5\" class=\"data row0 col5\" >0.025355</td>\n",
              "      <td id=\"T_1eb1f_row0_col6\" class=\"data row0 col6\" >-0.036797</td>\n",
              "      <td id=\"T_1eb1f_row0_col7\" class=\"data row0 col7\" >-0.026033</td>\n",
              "      <td id=\"T_1eb1f_row0_col8\" class=\"data row0 col8\" >-0.025824</td>\n",
              "      <td id=\"T_1eb1f_row0_col9\" class=\"data row0 col9\" >-0.037475</td>\n",
              "      <td id=\"T_1eb1f_row0_col10\" class=\"data row0 col10\" >0.053583</td>\n",
              "      <td id=\"T_1eb1f_row0_col11\" class=\"data row0 col11\" >-0.021938</td>\n",
              "      <td id=\"T_1eb1f_row0_col12\" class=\"data row0 col12\" >0.362236</td>\n",
              "      <td id=\"T_1eb1f_row0_col13\" class=\"data row0 col13\" >0.328209</td>\n",
              "    </tr>\n",
              "    <tr>\n",
              "      <th id=\"T_1eb1f_level0_row1\" class=\"row_heading level0 row1\" >Domestic</th>\n",
              "      <td id=\"T_1eb1f_row1_col0\" class=\"data row1 col0\" >-0.047398</td>\n",
              "      <td id=\"T_1eb1f_row1_col1\" class=\"data row1 col1\" >1.000000</td>\n",
              "      <td id=\"T_1eb1f_row1_col2\" class=\"data row1 col2\" >-0.045464</td>\n",
              "      <td id=\"T_1eb1f_row1_col3\" class=\"data row1 col3\" >-0.045441</td>\n",
              "      <td id=\"T_1eb1f_row1_col4\" class=\"data row1 col4\" >-0.065555</td>\n",
              "      <td id=\"T_1eb1f_row1_col5\" class=\"data row1 col5\" >0.067547</td>\n",
              "      <td id=\"T_1eb1f_row1_col6\" class=\"data row1 col6\" >0.009555</td>\n",
              "      <td id=\"T_1eb1f_row1_col7\" class=\"data row1 col7\" >-0.086929</td>\n",
              "      <td id=\"T_1eb1f_row1_col8\" class=\"data row1 col8\" >-0.086779</td>\n",
              "      <td id=\"T_1eb1f_row1_col9\" class=\"data row1 col9\" >0.008265</td>\n",
              "      <td id=\"T_1eb1f_row1_col10\" class=\"data row1 col10\" >-0.180013</td>\n",
              "      <td id=\"T_1eb1f_row1_col11\" class=\"data row1 col11\" >0.090994</td>\n",
              "      <td id=\"T_1eb1f_row1_col12\" class=\"data row1 col12\" >0.018744</td>\n",
              "      <td id=\"T_1eb1f_row1_col13\" class=\"data row1 col13\" >-0.098416</td>\n",
              "    </tr>\n",
              "    <tr>\n",
              "      <th id=\"T_1eb1f_level0_row2\" class=\"row_heading level0 row2\" >Beat</th>\n",
              "      <td id=\"T_1eb1f_row2_col0\" class=\"data row2 col0\" >-0.014827</td>\n",
              "      <td id=\"T_1eb1f_row2_col1\" class=\"data row2 col1\" >-0.045464</td>\n",
              "      <td id=\"T_1eb1f_row2_col2\" class=\"data row2 col2\" >1.000000</td>\n",
              "      <td id=\"T_1eb1f_row2_col3\" class=\"data row2 col3\" >0.999692</td>\n",
              "      <td id=\"T_1eb1f_row2_col4\" class=\"data row2 col4\" >0.679584</td>\n",
              "      <td id=\"T_1eb1f_row2_col5\" class=\"data row2 col5\" >-0.489793</td>\n",
              "      <td id=\"T_1eb1f_row2_col6\" class=\"data row2 col6\" >-0.562030</td>\n",
              "      <td id=\"T_1eb1f_row2_col7\" class=\"data row2 col7\" >0.633037</td>\n",
              "      <td id=\"T_1eb1f_row2_col8\" class=\"data row2 col8\" >0.633875</td>\n",
              "      <td id=\"T_1eb1f_row2_col9\" class=\"data row2 col9\" >-0.557210</td>\n",
              "      <td id=\"T_1eb1f_row2_col10\" class=\"data row2 col10\" >0.019675</td>\n",
              "      <td id=\"T_1eb1f_row2_col11\" class=\"data row2 col11\" >-0.103955</td>\n",
              "      <td id=\"T_1eb1f_row2_col12\" class=\"data row2 col12\" >0.005551</td>\n",
              "      <td id=\"T_1eb1f_row2_col13\" class=\"data row2 col13\" >0.011691</td>\n",
              "    </tr>\n",
              "    <tr>\n",
              "      <th id=\"T_1eb1f_level0_row3\" class=\"row_heading level0 row3\" >District</th>\n",
              "      <td id=\"T_1eb1f_row3_col0\" class=\"data row3 col0\" >-0.014825</td>\n",
              "      <td id=\"T_1eb1f_row3_col1\" class=\"data row3 col1\" >-0.045441</td>\n",
              "      <td id=\"T_1eb1f_row3_col2\" class=\"data row3 col2\" >0.999692</td>\n",
              "      <td id=\"T_1eb1f_row3_col3\" class=\"data row3 col3\" >1.000000</td>\n",
              "      <td id=\"T_1eb1f_row3_col4\" class=\"data row3 col4\" >0.680728</td>\n",
              "      <td id=\"T_1eb1f_row3_col5\" class=\"data row3 col5\" >-0.490194</td>\n",
              "      <td id=\"T_1eb1f_row3_col6\" class=\"data row3 col6\" >-0.562612</td>\n",
              "      <td id=\"T_1eb1f_row3_col7\" class=\"data row3 col7\" >0.633845</td>\n",
              "      <td id=\"T_1eb1f_row3_col8\" class=\"data row3 col8\" >0.634684</td>\n",
              "      <td id=\"T_1eb1f_row3_col9\" class=\"data row3 col9\" >-0.557784</td>\n",
              "      <td id=\"T_1eb1f_row3_col10\" class=\"data row3 col10\" >0.020217</td>\n",
              "      <td id=\"T_1eb1f_row3_col11\" class=\"data row3 col11\" >-0.103880</td>\n",
              "      <td id=\"T_1eb1f_row3_col12\" class=\"data row3 col12\" >0.005429</td>\n",
              "      <td id=\"T_1eb1f_row3_col13\" class=\"data row3 col13\" >0.011548</td>\n",
              "    </tr>\n",
              "    <tr>\n",
              "      <th id=\"T_1eb1f_level0_row4\" class=\"row_heading level0 row4\" >Ward</th>\n",
              "      <td id=\"T_1eb1f_row4_col0\" class=\"data row4 col0\" >-0.015177</td>\n",
              "      <td id=\"T_1eb1f_row4_col1\" class=\"data row4 col1\" >-0.065555</td>\n",
              "      <td id=\"T_1eb1f_row4_col2\" class=\"data row4 col2\" >0.679584</td>\n",
              "      <td id=\"T_1eb1f_row4_col3\" class=\"data row4 col3\" >0.680728</td>\n",
              "      <td id=\"T_1eb1f_row4_col4\" class=\"data row4 col4\" >1.000000</td>\n",
              "      <td id=\"T_1eb1f_row4_col5\" class=\"data row4 col5\" >-0.540463</td>\n",
              "      <td id=\"T_1eb1f_row4_col6\" class=\"data row4 col6\" >-0.460407</td>\n",
              "      <td id=\"T_1eb1f_row4_col7\" class=\"data row4 col7\" >0.659064</td>\n",
              "      <td id=\"T_1eb1f_row4_col8\" class=\"data row4 col8\" >0.659427</td>\n",
              "      <td id=\"T_1eb1f_row4_col9\" class=\"data row4 col9\" >-0.454340</td>\n",
              "      <td id=\"T_1eb1f_row4_col10\" class=\"data row4 col10\" >-0.008348</td>\n",
              "      <td id=\"T_1eb1f_row4_col11\" class=\"data row4 col11\" >-0.178999</td>\n",
              "      <td id=\"T_1eb1f_row4_col12\" class=\"data row4 col12\" >-0.016275</td>\n",
              "      <td id=\"T_1eb1f_row4_col13\" class=\"data row4 col13\" >-0.004044</td>\n",
              "    </tr>\n",
              "    <tr>\n",
              "      <th id=\"T_1eb1f_level0_row5\" class=\"row_heading level0 row5\" >Community Area</th>\n",
              "      <td id=\"T_1eb1f_row5_col0\" class=\"data row5 col0\" >0.025355</td>\n",
              "      <td id=\"T_1eb1f_row5_col1\" class=\"data row5 col1\" >0.067547</td>\n",
              "      <td id=\"T_1eb1f_row5_col2\" class=\"data row5 col2\" >-0.489793</td>\n",
              "      <td id=\"T_1eb1f_row5_col3\" class=\"data row5 col3\" >-0.490194</td>\n",
              "      <td id=\"T_1eb1f_row5_col4\" class=\"data row5 col4\" >-0.540463</td>\n",
              "      <td id=\"T_1eb1f_row5_col5\" class=\"data row5 col5\" >1.000000</td>\n",
              "      <td id=\"T_1eb1f_row5_col6\" class=\"data row5 col6\" >0.263912</td>\n",
              "      <td id=\"T_1eb1f_row5_col7\" class=\"data row5 col7\" >-0.782209</td>\n",
              "      <td id=\"T_1eb1f_row5_col8\" class=\"data row5 col8\" >-0.781512</td>\n",
              "      <td id=\"T_1eb1f_row5_col9\" class=\"data row5 col9\" >0.254444</td>\n",
              "      <td id=\"T_1eb1f_row5_col10\" class=\"data row5 col10\" >0.011420</td>\n",
              "      <td id=\"T_1eb1f_row5_col11\" class=\"data row5 col11\" >0.380134</td>\n",
              "      <td id=\"T_1eb1f_row5_col12\" class=\"data row5 col12\" >0.038331</td>\n",
              "      <td id=\"T_1eb1f_row5_col13\" class=\"data row5 col13\" >0.023158</td>\n",
              "    </tr>\n",
              "    <tr>\n",
              "      <th id=\"T_1eb1f_level0_row6\" class=\"row_heading level0 row6\" >X Coordinate</th>\n",
              "      <td id=\"T_1eb1f_row6_col0\" class=\"data row6 col0\" >-0.036797</td>\n",
              "      <td id=\"T_1eb1f_row6_col1\" class=\"data row6 col1\" >0.009555</td>\n",
              "      <td id=\"T_1eb1f_row6_col2\" class=\"data row6 col2\" >-0.562030</td>\n",
              "      <td id=\"T_1eb1f_row6_col3\" class=\"data row6 col3\" >-0.562612</td>\n",
              "      <td id=\"T_1eb1f_row6_col4\" class=\"data row6 col4\" >-0.460407</td>\n",
              "      <td id=\"T_1eb1f_row6_col5\" class=\"data row6 col5\" >0.263912</td>\n",
              "      <td id=\"T_1eb1f_row6_col6\" class=\"data row6 col6\" >1.000000</td>\n",
              "      <td id=\"T_1eb1f_row6_col7\" class=\"data row6 col7\" >-0.560367</td>\n",
              "      <td id=\"T_1eb1f_row6_col8\" class=\"data row6 col8\" >-0.563077</td>\n",
              "      <td id=\"T_1eb1f_row6_col9\" class=\"data row6 col9\" >0.999922</td>\n",
              "      <td id=\"T_1eb1f_row6_col10\" class=\"data row6 col10\" >-0.019420</td>\n",
              "      <td id=\"T_1eb1f_row6_col11\" class=\"data row6 col11\" >0.116872</td>\n",
              "      <td id=\"T_1eb1f_row6_col12\" class=\"data row6 col12\" >-0.062642</td>\n",
              "      <td id=\"T_1eb1f_row6_col13\" class=\"data row6 col13\" >-0.060380</td>\n",
              "    </tr>\n",
              "    <tr>\n",
              "      <th id=\"T_1eb1f_level0_row7\" class=\"row_heading level0 row7\" >Y Coordinate</th>\n",
              "      <td id=\"T_1eb1f_row7_col0\" class=\"data row7 col0\" >-0.026033</td>\n",
              "      <td id=\"T_1eb1f_row7_col1\" class=\"data row7 col1\" >-0.086929</td>\n",
              "      <td id=\"T_1eb1f_row7_col2\" class=\"data row7 col2\" >0.633037</td>\n",
              "      <td id=\"T_1eb1f_row7_col3\" class=\"data row7 col3\" >0.633845</td>\n",
              "      <td id=\"T_1eb1f_row7_col4\" class=\"data row7 col4\" >0.659064</td>\n",
              "      <td id=\"T_1eb1f_row7_col5\" class=\"data row7 col5\" >-0.782209</td>\n",
              "      <td id=\"T_1eb1f_row7_col6\" class=\"data row7 col6\" >-0.560367</td>\n",
              "      <td id=\"T_1eb1f_row7_col7\" class=\"data row7 col7\" >1.000000</td>\n",
              "      <td id=\"T_1eb1f_row7_col8\" class=\"data row7 col8\" >0.999995</td>\n",
              "      <td id=\"T_1eb1f_row7_col9\" class=\"data row7 col9\" >-0.550011</td>\n",
              "      <td id=\"T_1eb1f_row7_col10\" class=\"data row7 col10\" >-0.034854</td>\n",
              "      <td id=\"T_1eb1f_row7_col11\" class=\"data row7 col11\" >-0.377545</td>\n",
              "      <td id=\"T_1eb1f_row7_col12\" class=\"data row7 col12\" >-0.028019</td>\n",
              "      <td id=\"T_1eb1f_row7_col13\" class=\"data row7 col13\" >-0.011797</td>\n",
              "    </tr>\n",
              "    <tr>\n",
              "      <th id=\"T_1eb1f_level0_row8\" class=\"row_heading level0 row8\" >Latitude</th>\n",
              "      <td id=\"T_1eb1f_row8_col0\" class=\"data row8 col0\" >-0.025824</td>\n",
              "      <td id=\"T_1eb1f_row8_col1\" class=\"data row8 col1\" >-0.086779</td>\n",
              "      <td id=\"T_1eb1f_row8_col2\" class=\"data row8 col2\" >0.633875</td>\n",
              "      <td id=\"T_1eb1f_row8_col3\" class=\"data row8 col3\" >0.634684</td>\n",
              "      <td id=\"T_1eb1f_row8_col4\" class=\"data row8 col4\" >0.659427</td>\n",
              "      <td id=\"T_1eb1f_row8_col5\" class=\"data row8 col5\" >-0.781512</td>\n",
              "      <td id=\"T_1eb1f_row8_col6\" class=\"data row8 col6\" >-0.563077</td>\n",
              "      <td id=\"T_1eb1f_row8_col7\" class=\"data row8 col7\" >0.999995</td>\n",
              "      <td id=\"T_1eb1f_row8_col8\" class=\"data row8 col8\" >1.000000</td>\n",
              "      <td id=\"T_1eb1f_row8_col9\" class=\"data row8 col9\" >-0.552744</td>\n",
              "      <td id=\"T_1eb1f_row8_col10\" class=\"data row8 col10\" >-0.034673</td>\n",
              "      <td id=\"T_1eb1f_row8_col11\" class=\"data row8 col11\" >-0.377205</td>\n",
              "      <td id=\"T_1eb1f_row8_col12\" class=\"data row8 col12\" >-0.027713</td>\n",
              "      <td id=\"T_1eb1f_row8_col13\" class=\"data row8 col13\" >-0.011533</td>\n",
              "    </tr>\n",
              "    <tr>\n",
              "      <th id=\"T_1eb1f_level0_row9\" class=\"row_heading level0 row9\" >Longitude</th>\n",
              "      <td id=\"T_1eb1f_row9_col0\" class=\"data row9 col0\" >-0.037475</td>\n",
              "      <td id=\"T_1eb1f_row9_col1\" class=\"data row9 col1\" >0.008265</td>\n",
              "      <td id=\"T_1eb1f_row9_col2\" class=\"data row9 col2\" >-0.557210</td>\n",
              "      <td id=\"T_1eb1f_row9_col3\" class=\"data row9 col3\" >-0.557784</td>\n",
              "      <td id=\"T_1eb1f_row9_col4\" class=\"data row9 col4\" >-0.454340</td>\n",
              "      <td id=\"T_1eb1f_row9_col5\" class=\"data row9 col5\" >0.254444</td>\n",
              "      <td id=\"T_1eb1f_row9_col6\" class=\"data row9 col6\" >0.999922</td>\n",
              "      <td id=\"T_1eb1f_row9_col7\" class=\"data row9 col7\" >-0.550011</td>\n",
              "      <td id=\"T_1eb1f_row9_col8\" class=\"data row9 col8\" >-0.552744</td>\n",
              "      <td id=\"T_1eb1f_row9_col9\" class=\"data row9 col9\" >1.000000</td>\n",
              "      <td id=\"T_1eb1f_row9_col10\" class=\"data row9 col10\" >-0.020028</td>\n",
              "      <td id=\"T_1eb1f_row9_col11\" class=\"data row9 col11\" >0.111865</td>\n",
              "      <td id=\"T_1eb1f_row9_col12\" class=\"data row9 col12\" >-0.063625</td>\n",
              "      <td id=\"T_1eb1f_row9_col13\" class=\"data row9 col13\" >-0.061078</td>\n",
              "    </tr>\n",
              "    <tr>\n",
              "      <th id=\"T_1eb1f_level0_row10\" class=\"row_heading level0 row10\" >Location Description_CODE</th>\n",
              "      <td id=\"T_1eb1f_row10_col0\" class=\"data row10 col0\" >0.053583</td>\n",
              "      <td id=\"T_1eb1f_row10_col1\" class=\"data row10 col1\" >-0.180013</td>\n",
              "      <td id=\"T_1eb1f_row10_col2\" class=\"data row10 col2\" >0.019675</td>\n",
              "      <td id=\"T_1eb1f_row10_col3\" class=\"data row10 col3\" >0.020217</td>\n",
              "      <td id=\"T_1eb1f_row10_col4\" class=\"data row10 col4\" >-0.008348</td>\n",
              "      <td id=\"T_1eb1f_row10_col5\" class=\"data row10 col5\" >0.011420</td>\n",
              "      <td id=\"T_1eb1f_row10_col6\" class=\"data row10 col6\" >-0.019420</td>\n",
              "      <td id=\"T_1eb1f_row10_col7\" class=\"data row10 col7\" >-0.034854</td>\n",
              "      <td id=\"T_1eb1f_row10_col8\" class=\"data row10 col8\" >-0.034673</td>\n",
              "      <td id=\"T_1eb1f_row10_col9\" class=\"data row10 col9\" >-0.020028</td>\n",
              "      <td id=\"T_1eb1f_row10_col10\" class=\"data row10 col10\" >1.000000</td>\n",
              "      <td id=\"T_1eb1f_row10_col11\" class=\"data row10 col11\" >0.020816</td>\n",
              "      <td id=\"T_1eb1f_row10_col12\" class=\"data row10 col12\" >0.039074</td>\n",
              "      <td id=\"T_1eb1f_row10_col13\" class=\"data row10 col13\" >0.071429</td>\n",
              "    </tr>\n",
              "    <tr>\n",
              "      <th id=\"T_1eb1f_level0_row11\" class=\"row_heading level0 row11\" >Block_CODE</th>\n",
              "      <td id=\"T_1eb1f_row11_col0\" class=\"data row11 col0\" >-0.021938</td>\n",
              "      <td id=\"T_1eb1f_row11_col1\" class=\"data row11 col1\" >0.090994</td>\n",
              "      <td id=\"T_1eb1f_row11_col2\" class=\"data row11 col2\" >-0.103955</td>\n",
              "      <td id=\"T_1eb1f_row11_col3\" class=\"data row11 col3\" >-0.103880</td>\n",
              "      <td id=\"T_1eb1f_row11_col4\" class=\"data row11 col4\" >-0.178999</td>\n",
              "      <td id=\"T_1eb1f_row11_col5\" class=\"data row11 col5\" >0.380134</td>\n",
              "      <td id=\"T_1eb1f_row11_col6\" class=\"data row11 col6\" >0.116872</td>\n",
              "      <td id=\"T_1eb1f_row11_col7\" class=\"data row11 col7\" >-0.377545</td>\n",
              "      <td id=\"T_1eb1f_row11_col8\" class=\"data row11 col8\" >-0.377205</td>\n",
              "      <td id=\"T_1eb1f_row11_col9\" class=\"data row11 col9\" >0.111865</td>\n",
              "      <td id=\"T_1eb1f_row11_col10\" class=\"data row11 col10\" >0.020816</td>\n",
              "      <td id=\"T_1eb1f_row11_col11\" class=\"data row11 col11\" >1.000000</td>\n",
              "      <td id=\"T_1eb1f_row11_col12\" class=\"data row11 col12\" >0.028280</td>\n",
              "      <td id=\"T_1eb1f_row11_col13\" class=\"data row11 col13\" >0.006432</td>\n",
              "    </tr>\n",
              "    <tr>\n",
              "      <th id=\"T_1eb1f_level0_row12\" class=\"row_heading level0 row12\" >FBI Code_CODE</th>\n",
              "      <td id=\"T_1eb1f_row12_col0\" class=\"data row12 col0\" >0.362236</td>\n",
              "      <td id=\"T_1eb1f_row12_col1\" class=\"data row12 col1\" >0.018744</td>\n",
              "      <td id=\"T_1eb1f_row12_col2\" class=\"data row12 col2\" >0.005551</td>\n",
              "      <td id=\"T_1eb1f_row12_col3\" class=\"data row12 col3\" >0.005429</td>\n",
              "      <td id=\"T_1eb1f_row12_col4\" class=\"data row12 col4\" >-0.016275</td>\n",
              "      <td id=\"T_1eb1f_row12_col5\" class=\"data row12 col5\" >0.038331</td>\n",
              "      <td id=\"T_1eb1f_row12_col6\" class=\"data row12 col6\" >-0.062642</td>\n",
              "      <td id=\"T_1eb1f_row12_col7\" class=\"data row12 col7\" >-0.028019</td>\n",
              "      <td id=\"T_1eb1f_row12_col8\" class=\"data row12 col8\" >-0.027713</td>\n",
              "      <td id=\"T_1eb1f_row12_col9\" class=\"data row12 col9\" >-0.063625</td>\n",
              "      <td id=\"T_1eb1f_row12_col10\" class=\"data row12 col10\" >0.039074</td>\n",
              "      <td id=\"T_1eb1f_row12_col11\" class=\"data row12 col11\" >0.028280</td>\n",
              "      <td id=\"T_1eb1f_row12_col12\" class=\"data row12 col12\" >1.000000</td>\n",
              "      <td id=\"T_1eb1f_row12_col13\" class=\"data row12 col13\" >0.862010</td>\n",
              "    </tr>\n",
              "    <tr>\n",
              "      <th id=\"T_1eb1f_level0_row13\" class=\"row_heading level0 row13\" >IUCR_CODE</th>\n",
              "      <td id=\"T_1eb1f_row13_col0\" class=\"data row13 col0\" >0.328209</td>\n",
              "      <td id=\"T_1eb1f_row13_col1\" class=\"data row13 col1\" >-0.098416</td>\n",
              "      <td id=\"T_1eb1f_row13_col2\" class=\"data row13 col2\" >0.011691</td>\n",
              "      <td id=\"T_1eb1f_row13_col3\" class=\"data row13 col3\" >0.011548</td>\n",
              "      <td id=\"T_1eb1f_row13_col4\" class=\"data row13 col4\" >-0.004044</td>\n",
              "      <td id=\"T_1eb1f_row13_col5\" class=\"data row13 col5\" >0.023158</td>\n",
              "      <td id=\"T_1eb1f_row13_col6\" class=\"data row13 col6\" >-0.060380</td>\n",
              "      <td id=\"T_1eb1f_row13_col7\" class=\"data row13 col7\" >-0.011797</td>\n",
              "      <td id=\"T_1eb1f_row13_col8\" class=\"data row13 col8\" >-0.011533</td>\n",
              "      <td id=\"T_1eb1f_row13_col9\" class=\"data row13 col9\" >-0.061078</td>\n",
              "      <td id=\"T_1eb1f_row13_col10\" class=\"data row13 col10\" >0.071429</td>\n",
              "      <td id=\"T_1eb1f_row13_col11\" class=\"data row13 col11\" >0.006432</td>\n",
              "      <td id=\"T_1eb1f_row13_col12\" class=\"data row13 col12\" >0.862010</td>\n",
              "      <td id=\"T_1eb1f_row13_col13\" class=\"data row13 col13\" >1.000000</td>\n",
              "    </tr>\n",
              "  </tbody>\n",
              "</table>\n"
            ]
          },
          "metadata": {},
          "execution_count": 11
        }
      ],
      "source": [
        "# Generate a correlation matrix, based on certain variables in our dataset.\n",
        "correlation_matrix = df_ccr.corr()\n",
        "\n",
        "correlation_matrix.style.background_gradient(cmap = 'coolwarm')"
      ]
    },
    {
      "cell_type": "code",
      "execution_count": 12,
      "metadata": {
        "id": "p5Fwe138Yp_z"
      },
      "outputs": [],
      "source": [
        "#Dropping more columns that might be unnecessary\n",
        "df_ccr=df_ccr.drop(columns=['X Coordinate', 'Y Coordinate','District'])"
      ]
    },
    {
      "cell_type": "code",
      "execution_count": 13,
      "metadata": {
        "id": "HBe0XGt-_90r"
      },
      "outputs": [],
      "source": [
        "#Splitting the data\n",
        "X=df_ccr.drop(columns='Primary Type')\n",
        "Y=df_ccr['Primary Type']\n",
        "x_train,x_test,y_train,y_test=train_test_split(X,Y,test_size=0.2,random_state=117)"
      ]
    },
    {
      "cell_type": "code",
      "execution_count": 14,
      "metadata": {
        "colab": {
          "base_uri": "https://localhost:8080/"
        },
        "id": "lJr33WRFA7IB",
        "outputId": "f16b9946-407a-49b5-8ed5-c245f9b4a780"
      },
      "outputs": [
        {
          "output_type": "stream",
          "name": "stdout",
          "text": [
            "0.564873417721519\n"
          ]
        }
      ],
      "source": [
        "#training the model 1st try\n",
        "Knnmodel=KNeighborsClassifier()\n",
        "Knnmodel.fit(x_train,y_train)\n",
        "y_pred=Knnmodel.predict(x_test)\n",
        "print(accuracy_score(y_test,y_pred))\n"
      ]
    },
    {
      "cell_type": "code",
      "execution_count": 15,
      "metadata": {
        "colab": {
          "base_uri": "https://localhost:8080/",
          "height": 920
        },
        "id": "GbOUAnOTYqAE",
        "outputId": "3ddae4d4-6853-478f-9b28-9fbb35f53928"
      },
      "outputs": [
        {
          "output_type": "display_data",
          "data": {
            "text/plain": [
              "<Figure size 1440x1440 with 2 Axes>"
            ],
            "image/png": "[encoded data removed]"
          },
          "metadata": {
            "needs_background": "light"
          }
        }
      ],
      "source": [
        "#plotting the confusion matrix\n",
        "#confusion_matrix_1st_Try=multilabel_confusion_matrix(y_test,y_pred,labels=y_test.unique())\n",
        "#confusion_matrix_1st_Try\n",
        "# Creating  a confusion matrix,which compares the y_test and y_pred\n",
        "cm1 = confusion_matrix(y_test, y_pred)\n",
        "# Creating a dataframe for a array-formatted Confusion matrix,so it will be easy for plotting.\n",
        "cm1_df = pd.DataFrame(cm1,\n",
        "                     index = y_test.unique(), \n",
        "                     columns = y_test.unique())\n",
        "#Plotting the confusion matrix\n",
        "plt.figure(figsize=(20,20))\n",
        "sns.heatmap(cm1_df, annot=True)\n",
        "plt.title('Confusion Matrix')\n",
        "plt.ylabel('Actual Values')\n",
        "plt.xlabel('Predicted Values')\n",
        "plt.show()"
      ]
    },
    {
      "cell_type": "code",
      "execution_count": 16,
      "metadata": {
        "id": "u4bbC_NBA-RA"
      },
      "outputs": [],
      "source": [
        "#Some tuning\n",
        "#Scaling X\n",
        "scaler=StandardScaler()\n",
        "x_train_scaled=pd.DataFrame(scaler.fit_transform(x_train))\n",
        "x_test_scaled=pd.DataFrame(scaler.fit_transform(x_test))"
      ]
    },
    {
      "cell_type": "code",
      "execution_count": 17,
      "metadata": {
        "colab": {
          "base_uri": "https://localhost:8080/",
          "height": 488
        },
        "id": "ryT132YrYqAM",
        "outputId": "c93be746-6bcc-4677-85b8-f082bd7d462a"
      },
      "outputs": [
        {
          "output_type": "execute_result",
          "data": {
            "text/plain": [
              "             0         1         2         3         4         5         6   \\\n",
              "0     -0.574305 -0.423467  0.377271  0.867000 -0.710818  1.030104 -0.658169   \n",
              "1     -0.574305 -0.423467  0.101974  0.292673 -0.664251  0.612566 -0.566870   \n",
              "2     -0.574305 -0.423467  0.119271 -1.502099 -0.431415  0.237718  0.205643   \n",
              "3     -0.574305 -0.423467  0.122153  0.149091 -0.291714  0.131655  0.204900   \n",
              "4     -0.574305  2.361458  0.839942  0.867000 -0.990221  1.241882 -0.684063   \n",
              "...         ...       ...       ...       ...       ...       ...       ...   \n",
              "37915 -0.574305 -0.423467  0.825528  1.154163 -1.083356  1.402852 -0.814428   \n",
              "37916  1.741235 -0.423467 -0.905524  0.795209  0.732763 -1.908271  0.709907   \n",
              "37917  1.741235 -0.423467 -1.469089 -1.502099 -0.198580  0.277771  0.778524   \n",
              "37918  1.741235 -0.423467 -0.775803 -0.425236  1.570972 -1.035823  0.161379   \n",
              "37919 -0.574305  2.361458 -1.206765 -0.209863  0.220525 -0.698955  0.969176   \n",
              "\n",
              "             7         8         9         10  \n",
              "0     -1.192485 -0.332560  0.637511  0.409325  \n",
              "1      0.807449 -0.146088 -0.448094 -0.545951  \n",
              "2     -0.069715 -0.965642  0.637511  0.441167  \n",
              "3      0.807449 -0.964638 -1.223527 -0.705164  \n",
              "4      0.316237  0.060858  2.033289  2.081058  \n",
              "...         ...       ...       ...       ...  \n",
              "37915  0.316237  0.329427 -0.913354 -0.466345  \n",
              "37916 -0.069715  1.698963 -0.758267 -0.386739  \n",
              "37917 -0.455667 -1.018432 -0.758267 -0.354896  \n",
              "37918  0.807449 -0.849423  1.257857  1.762633  \n",
              "37919 -1.929302  0.895066 -0.758267 -0.386739  \n",
              "\n",
              "[37920 rows x 11 columns]"
            ],
            "text/html": [
              "\n",
              "  <div id=\"df-068847a9-8438-4195-8276-ed552ef37e44\">\n",
              "    <div class=\"colab-df-container\">\n",
              "      <div>\n",
              "<style scoped>\n",
              "    .dataframe tbody tr th:only-of-type {\n",
              "        vertical-align: middle;\n",
              "    }\n",
              "\n",
              "    .dataframe tbody tr th {\n",
              "        vertical-align: top;\n",
              "    }\n",
              "\n",
              "    .dataframe thead th {\n",
              "        text-align: right;\n",
              "    }\n",
              "</style>\n",
              "<table border=\"1\" class=\"dataframe\">\n",
              "  <thead>\n",
              "    <tr style=\"text-align: right;\">\n",
              "      <th></th>\n",
              "      <th>0</th>\n",
              "      <th>1</th>\n",
              "      <th>2</th>\n",
              "      <th>3</th>\n",
              "      <th>4</th>\n",
              "      <th>5</th>\n",
              "      <th>6</th>\n",
              "      <th>7</th>\n",
              "      <th>8</th>\n",
              "      <th>9</th>\n",
              "      <th>10</th>\n",
              "    </tr>\n",
              "  </thead>\n",
              "  <tbody>\n",
              "    <tr>\n",
              "      <th>0</th>\n",
              "      <td>-0.574305</td>\n",
              "      <td>-0.423467</td>\n",
              "      <td>0.377271</td>\n",
              "      <td>0.867000</td>\n",
              "      <td>-0.710818</td>\n",
              "      <td>1.030104</td>\n",
              "      <td>-0.658169</td>\n",
              "      <td>-1.192485</td>\n",
              "      <td>-0.332560</td>\n",
              "      <td>0.637511</td>\n",
              "      <td>0.409325</td>\n",
              "    </tr>\n",
              "    <tr>\n",
              "      <th>1</th>\n",
              "      <td>-0.574305</td>\n",
              "      <td>-0.423467</td>\n",
              "      <td>0.101974</td>\n",
              "      <td>0.292673</td>\n",
              "      <td>-0.664251</td>\n",
              "      <td>0.612566</td>\n",
              "      <td>-0.566870</td>\n",
              "      <td>0.807449</td>\n",
              "      <td>-0.146088</td>\n",
              "      <td>-0.448094</td>\n",
              "      <td>-0.545951</td>\n",
              "    </tr>\n",
              "    <tr>\n",
              "      <th>2</th>\n",
              "      <td>-0.574305</td>\n",
              "      <td>-0.423467</td>\n",
              "      <td>0.119271</td>\n",
              "      <td>-1.502099</td>\n",
              "      <td>-0.431415</td>\n",
              "      <td>0.237718</td>\n",
              "      <td>0.205643</td>\n",
              "      <td>-0.069715</td>\n",
              "      <td>-0.965642</td>\n",
              "      <td>0.637511</td>\n",
              "      <td>0.441167</td>\n",
              "    </tr>\n",
              "    <tr>\n",
              "      <th>3</th>\n",
              "      <td>-0.574305</td>\n",
              "      <td>-0.423467</td>\n",
              "      <td>0.122153</td>\n",
              "      <td>0.149091</td>\n",
              "      <td>-0.291714</td>\n",
              "      <td>0.131655</td>\n",
              "      <td>0.204900</td>\n",
              "      <td>0.807449</td>\n",
              "      <td>-0.964638</td>\n",
              "      <td>-1.223527</td>\n",
              "      <td>-0.705164</td>\n",
              "    </tr>\n",
              "    <tr>\n",
              "      <th>4</th>\n",
              "      <td>-0.574305</td>\n",
              "      <td>2.361458</td>\n",
              "      <td>0.839942</td>\n",
              "      <td>0.867000</td>\n",
              "      <td>-0.990221</td>\n",
              "      <td>1.241882</td>\n",
              "      <td>-0.684063</td>\n",
              "      <td>0.316237</td>\n",
              "      <td>0.060858</td>\n",
              "      <td>2.033289</td>\n",
              "      <td>2.081058</td>\n",
              "    </tr>\n",
              "    <tr>\n",
              "      <th>...</th>\n",
              "      <td>...</td>\n",
              "      <td>...</td>\n",
              "      <td>...</td>\n",
              "      <td>...</td>\n",
              "      <td>...</td>\n",
              "      <td>...</td>\n",
              "      <td>...</td>\n",
              "      <td>...</td>\n",
              "      <td>...</td>\n",
              "      <td>...</td>\n",
              "      <td>...</td>\n",
              "    </tr>\n",
              "    <tr>\n",
              "      <th>37915</th>\n",
              "      <td>-0.574305</td>\n",
              "      <td>-0.423467</td>\n",
              "      <td>0.825528</td>\n",
              "      <td>1.154163</td>\n",
              "      <td>-1.083356</td>\n",
              "      <td>1.402852</td>\n",
              "      <td>-0.814428</td>\n",
              "      <td>0.316237</td>\n",
              "      <td>0.329427</td>\n",
              "      <td>-0.913354</td>\n",
              "      <td>-0.466345</td>\n",
              "    </tr>\n",
              "    <tr>\n",
              "      <th>37916</th>\n",
              "      <td>1.741235</td>\n",
              "      <td>-0.423467</td>\n",
              "      <td>-0.905524</td>\n",
              "      <td>0.795209</td>\n",
              "      <td>0.732763</td>\n",
              "      <td>-1.908271</td>\n",
              "      <td>0.709907</td>\n",
              "      <td>-0.069715</td>\n",
              "      <td>1.698963</td>\n",
              "      <td>-0.758267</td>\n",
              "      <td>-0.386739</td>\n",
              "    </tr>\n",
              "    <tr>\n",
              "      <th>37917</th>\n",
              "      <td>1.741235</td>\n",
              "      <td>-0.423467</td>\n",
              "      <td>-1.469089</td>\n",
              "      <td>-1.502099</td>\n",
              "      <td>-0.198580</td>\n",
              "      <td>0.277771</td>\n",
              "      <td>0.778524</td>\n",
              "      <td>-0.455667</td>\n",
              "      <td>-1.018432</td>\n",
              "      <td>-0.758267</td>\n",
              "      <td>-0.354896</td>\n",
              "    </tr>\n",
              "    <tr>\n",
              "      <th>37918</th>\n",
              "      <td>1.741235</td>\n",
              "      <td>-0.423467</td>\n",
              "      <td>-0.775803</td>\n",
              "      <td>-0.425236</td>\n",
              "      <td>1.570972</td>\n",
              "      <td>-1.035823</td>\n",
              "      <td>0.161379</td>\n",
              "      <td>0.807449</td>\n",
              "      <td>-0.849423</td>\n",
              "      <td>1.257857</td>\n",
              "      <td>1.762633</td>\n",
              "    </tr>\n",
              "    <tr>\n",
              "      <th>37919</th>\n",
              "      <td>-0.574305</td>\n",
              "      <td>2.361458</td>\n",
              "      <td>-1.206765</td>\n",
              "      <td>-0.209863</td>\n",
              "      <td>0.220525</td>\n",
              "      <td>-0.698955</td>\n",
              "      <td>0.969176</td>\n",
              "      <td>-1.929302</td>\n",
              "      <td>0.895066</td>\n",
              "      <td>-0.758267</td>\n",
              "      <td>-0.386739</td>\n",
              "    </tr>\n",
              "  </tbody>\n",
              "</table>\n",
              "<p>37920 rows × 11 columns</p>\n",
              "</div>\n",
              "      <button class=\"colab-df-convert\" onclick=\"convertToInteractive('df-068847a9-8438-4195-8276-ed552ef37e44')\"\n",
              "              title=\"Convert this dataframe to an interactive table.\"\n",
              "              style=\"display:none;\">\n",
              "        \n",
              "  <svg xmlns=\"http://www.w3.org/2000/svg\" height=\"24px\"viewBox=\"0 0 24 24\"\n",
              "       width=\"24px\">\n",
              "    <path d=\"M0 0h24v24H0V0z\" fill=\"none\"/>\n",
              "    <path d=\"M18.56 5.44l.94 2.06.94-2.06 2.06-.94-2.06-.94-.94-2.06-.94 2.06-2.06.94zm-11 1L8.5 8.5l.94-2.06 2.06-.94-2.06-.94L8.5 2.5l-.94 2.06-2.06.94zm10 10l.94 2.06.94-2.06 2.06-.94-2.06-.94-.94-2.06-.94 2.06-2.06.94z\"/><path d=\"M17.41 7.96l-1.37-1.37c-.4-.4-.92-.59-1.43-.59-.52 0-1.04.2-1.43.59L10.3 9.45l-7.72 7.72c-.78.78-.78 2.05 0 2.83L4 21.41c.39.39.9.59 1.41.59.51 0 1.02-.2 1.41-.59l7.78-7.78 2.81-2.81c.8-.78.8-2.07 0-2.86zM5.41 20L4 18.59l7.72-7.72 1.47 1.35L5.41 20z\"/>\n",
              "  </svg>\n",
              "      </button>\n",
              "      \n",
              "  <style>\n",
              "    .colab-df-container {\n",
              "      display:flex;\n",
              "      flex-wrap:wrap;\n",
              "      gap: 12px;\n",
              "    }\n",
              "\n",
              "    .colab-df-convert {\n",
              "      background-color: #E8F0FE;\n",
              "      border: none;\n",
              "      border-radius: 50%;\n",
              "      cursor: pointer;\n",
              "      display: none;\n",
              "      fill: #1967D2;\n",
              "      height: 32px;\n",
              "      padding: 0 0 0 0;\n",
              "      width: 32px;\n",
              "    }\n",
              "\n",
              "    .colab-df-convert:hover {\n",
              "      background-color: #E2EBFA;\n",
              "      box-shadow: 0px 1px 2px rgba(60, 64, 67, 0.3), 0px 1px 3px 1px rgba(60, 64, 67, 0.15);\n",
              "      fill: #174EA6;\n",
              "    }\n",
              "\n",
              "    [theme=dark] .colab-df-convert {\n",
              "      background-color: #3B4455;\n",
              "      fill: #D2E3FC;\n",
              "    }\n",
              "\n",
              "    [theme=dark] .colab-df-convert:hover {\n",
              "      background-color: #434B5C;\n",
              "      box-shadow: 0px 1px 3px 1px rgba(0, 0, 0, 0.15);\n",
              "      filter: drop-shadow(0px 1px 2px rgba(0, 0, 0, 0.3));\n",
              "      fill: #FFFFFF;\n",
              "    }\n",
              "  </style>\n",
              "\n",
              "      <script>\n",
              "        const buttonEl =\n",
              "          document.querySelector('#df-068847a9-8438-4195-8276-ed552ef37e44 button.colab-df-convert');\n",
              "        buttonEl.style.display =\n",
              "          google.colab.kernel.accessAllowed ? 'block' : 'none';\n",
              "\n",
              "        async function convertToInteractive(key) {\n",
              "          const element = document.querySelector('#df-068847a9-8438-4195-8276-ed552ef37e44');\n",
              "          const dataTable =\n",
              "            await google.colab.kernel.invokeFunction('convertToInteractive',\n",
              "                                                     [key], {});\n",
              "          if (!dataTable) return;\n",
              "\n",
              "          const docLinkHtml = 'Like what you see? Visit the ' +\n",
              "            '<a target=\"_blank\" href=https://colab.research.google.com/notebooks/data_table.ipynb>data table notebook</a>'\n",
              "            + ' to learn more about interactive tables.';\n",
              "          element.innerHTML = '';\n",
              "          dataTable['output_type'] = 'display_data';\n",
              "          await google.colab.output.renderOutput(dataTable, element);\n",
              "          const docLink = document.createElement('div');\n",
              "          docLink.innerHTML = docLinkHtml;\n",
              "          element.appendChild(docLink);\n",
              "        }\n",
              "      </script>\n",
              "    </div>\n",
              "  </div>\n",
              "  "
            ]
          },
          "metadata": {},
          "execution_count": 17
        }
      ],
      "source": [
        "x_train_scaled"
      ]
    },
    {
      "cell_type": "code",
      "execution_count": 18,
      "metadata": {
        "colab": {
          "base_uri": "https://localhost:8080/"
        },
        "id": "Czz8SKfOYqAO",
        "outputId": "da483dd3-9b11-4025-fafa-e6a101cf6900"
      },
      "outputs": [
        {
          "output_type": "stream",
          "name": "stdout",
          "text": [
            "0.8491561181434599\n"
          ]
        }
      ],
      "source": [
        "#Training the model 2nd Try\n",
        "KnnmodelScaled=KNeighborsClassifier()\n",
        "KnnmodelScaled.fit(x_train_scaled,y_train)\n",
        "y_pred_scaled=KnnmodelScaled.predict(x_test_scaled)\n",
        "print(accuracy_score(y_test,y_pred_scaled))"
      ]
    },
    {
      "cell_type": "code",
      "source": [
        "#validation curve\n",
        "k = np.arange(1, 20)\n",
        "train_score, val_score = validation_curve(estimator=KNeighborsClassifier(), X=x_train_scaled, y=y_train, param_name='n_neighbors', param_range=k)"
      ],
      "metadata": {
        "id": "nKXfq5Ru15rx",
        "colab": {
          "base_uri": "https://localhost:8080/"
        },
        "outputId": "955683a8-f52d-49c9-9f3d-36f12334a7c1"
      },
      "execution_count": 23,
      "outputs": [
        {
          "output_type": "stream",
          "name": "stderr",
          "text": [
            "/usr/local/lib/python3.8/dist-packages/sklearn/model_selection/_split.py:676: UserWarning: The least populated class in y has only 1 members, which is less than n_splits=5.\n",
            "  warnings.warn(\n"
          ]
        }
      ]
    },
    {
      "cell_type": "code",
      "source": [
        "#visualize the best k for n_neighbors\n",
        "plt.plot(k,val_score.mean(axis=1), label='validation')\n",
        "plt.plot(k,train_score.mean(axis=1), label='train')\n",
        "plt.ylabel('score')\n",
        "plt.xlabel('n_neighbors')\n",
        "plt.legend()"
      ],
      "metadata": {
        "colab": {
          "base_uri": "https://localhost:8080/",
          "height": 298
        },
        "id": "mKtfBLZ78UD4",
        "outputId": "94692eee-4660-4f23-83fe-7f619889f2d9"
      },
      "execution_count": 25,
      "outputs": [
        {
          "output_type": "execute_result",
          "data": {
            "text/plain": [
              "<matplotlib.legend.Legend at 0x7f6917384970>"
            ]
          },
          "metadata": {},
          "execution_count": 25
        },
        {
          "output_type": "display_data",
          "data": {
            "text/plain": [
              "<Figure size 432x288 with 1 Axes>"
            ],
            "image/png": "[encoded data removed]"
          },
          "metadata": {
            "needs_background": "light"
          }
        }
      ]
    },
    {
      "cell_type": "code",
      "source": [
        "#Tuning the hyper Parameters\n",
        "param_grid = {'n_neighbors': np.arange(1,20),'metric':['euclidean', 'manhattan']}\n",
        "grid = GridSearchCV(KNeighborsClassifier(), param_grid)\n",
        "grid.fit(x_train_scaled, y_train)\n",
        "\n",
        "print(grid.best_params_) # Best parameters apparently\n",
        "modelknngrid = grid.best_estimator_ #put parameters into model\n",
        "modelknngrid.score(x_test_scaled,y_test) # score the model"
      ],
      "metadata": {
        "colab": {
          "base_uri": "https://localhost:8080/"
        },
        "id": "dPOpNVQl9VOW",
        "outputId": "4e2736ea-813d-4e0a-89a1-5c624ee3cb34"
      },
      "execution_count": 28,
      "outputs": [
        {
          "output_type": "stream",
          "name": "stderr",
          "text": [
            "/usr/local/lib/python3.8/dist-packages/sklearn/model_selection/_split.py:676: UserWarning: The least populated class in y has only 1 members, which is less than n_splits=5.\n",
            "  warnings.warn(\n"
          ]
        },
        {
          "output_type": "stream",
          "name": "stdout",
          "text": [
            "{'metric': 'manhattan', 'n_neighbors': 1}\n"
          ]
        },
        {
          "output_type": "execute_result",
          "data": {
            "text/plain": [
              "0.9035864978902953"
            ]
          },
          "metadata": {},
          "execution_count": 28
        }
      ]
    },
    {
      "cell_type": "markdown",
      "source": [
        "We probably have too much features for a KNN model as it doesn't do well with high dimensionnality"
      ],
      "metadata": {
        "id": "UyCJEIIT_6W0"
      }
    },
    {
      "cell_type": "markdown",
      "source": [
        "### Removing the IUCR code and the FBI code"
      ],
      "metadata": {
        "id": "E9WcgjVICNpz"
      }
    },
    {
      "cell_type": "code",
      "source": [
        "df_NO_FBI_IUCR=df_ccr.drop(columns=['FBI Code_CODE','IUCR_CODE'])"
      ],
      "metadata": {
        "id": "xZYJ9O2w_Jxs"
      },
      "execution_count": 29,
      "outputs": []
    },
    {
      "cell_type": "code",
      "source": [
        "X2=df_NO_FBI_IUCR.drop(columns=['Primary Type'])\n",
        "Y2=df_NO_FBI_IUCR['Primary Type']\n",
        "\n",
        "x2_train,x2_test,y2_train,y2_test=train_test_split(X2,Y2,test_size=0.2,random_state=117)"
      ],
      "metadata": {
        "id": "NphM1hejDa9b"
      },
      "execution_count": 30,
      "outputs": []
    },
    {
      "cell_type": "code",
      "source": [
        "#Scaling X2\n",
        "x2_train_scaled=pd.DataFrame(scaler.fit_transform(x2_train))\n",
        "x2_test_scaled=pd.DataFrame(scaler.fit_transform(x2_test))"
      ],
      "metadata": {
        "id": "WCPZKOJ_ECUr"
      },
      "execution_count": 31,
      "outputs": []
    },
    {
      "cell_type": "code",
      "source": [
        "#Training the models with and without scaling\n",
        "#unscaled\n",
        "KnnModel2=KNeighborsClassifier()\n",
        "KnnModel2.fit(x2_train,y2_train)\n",
        "y2_pred=KnnModel2.predict(x2_test)\n",
        "\n",
        "#scaled\n",
        "\n",
        "KnnModelScaled2=KNeighborsClassifier()\n",
        "KnnModelScaled2.fit(x2_train_scaled,y2_train)\n",
        "y2_pred_scaled=KnnModelScaled2.predict(x2_test_scaled)\n",
        "\n",
        "print(\"accuracy score of unscaled result: \",accuracy_score(y2_test,y2_pred))\n",
        "print(\"accuracy score of scaled result: \",accuracy_score(y2_test,y2_pred_scaled))"
      ],
      "metadata": {
        "colab": {
          "base_uri": "https://localhost:8080/"
        },
        "id": "4n1jyhcKEV4m",
        "outputId": "0516df5d-4d61-4221-8373-b647217daca2"
      },
      "execution_count": 34,
      "outputs": [
        {
          "output_type": "stream",
          "name": "stdout",
          "text": [
            "accuracy score of unscaled result:  0.234915611814346\n",
            "accuracy score of scaled result:  0.3359704641350211\n"
          ]
        }
      ]
    },
    {
      "cell_type": "markdown",
      "source": [
        "#### Well that sucks"
      ],
      "metadata": {
        "id": "8MYxBHDDFvZs"
      }
    }
  ],
  "metadata": {
    "colab": {
      "provenance": [],
      "include_colab_link": true
    },
    "kernelspec": {
      "display_name": "Python 3 (ipykernel)",
      "language": "python",
      "name": "python3"
    },
    "language_info": {
      "codemirror_mode": {
        "name": "ipython",
        "version": 3
      },
      "file_extension": ".py",
      "mimetype": "text/x-python",
      "name": "python",
      "nbconvert_exporter": "python",
      "pygments_lexer": "ipython3",
      "version": "3.8.10"
    }
  },
  "nbformat": 4,
  "nbformat_minor": 0
}