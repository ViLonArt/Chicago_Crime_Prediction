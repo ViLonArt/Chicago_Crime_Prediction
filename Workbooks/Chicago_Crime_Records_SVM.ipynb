{
 "cells": [
  {
   "cell_type": "markdown",
   "metadata": {
    "id": "iz4nEDTyk6I3"
   },
   "source": [
    "# **Initial Load**\n",
    "\n"
   ]
  },
  {
   "cell_type": "code",
   "execution_count": 1,
   "metadata": {},
   "outputs": [],
   "source": [
    "import numpy as np\n",
    "import pandas as pd\n",
    "import os\n",
    "import sklearn\n",
    "import matplotlib.pyplot as plt\n",
    "import matplotlib.colors as colors\n",
    "from sklearn.utils import resample\n",
    "from sklearn.model_selection import train_test_split\n",
    "from sklearn.preprocessing import scale\n",
    "from sklearn.svm import SVC\n",
    "from sklearn.model_selection import GridSearchCV\n",
    "from sklearn.metrics import confusion_matrix\n",
    "from sklearn.decomposition import PCA"
   ]
  },
  {
   "cell_type": "code",
   "execution_count": 5,
   "metadata": {
    "executionInfo": {
     "elapsed": 6885,
     "status": "ok",
     "timestamp": 1676390280315,
     "user": {
      "displayName": "Jitesh Jhawar",
      "userId": "00255562336467084785"
     },
     "user_tz": 0
    },
    "id": "OdyPByMLaSLl"
   },
   "outputs": [],
   "source": [
    "# Install any required packages.\n",
    "data = pd.read_csv(\"../Dataset/ChicagoCrimeRecords.csv\")"
   ]
  },
  {
   "cell_type": "markdown",
   "metadata": {
    "id": "O9ZFgJ1MlU3o"
   },
   "source": [
    "# **Basic Checks**\n",
    "\n",
    "Carry out some basic checks on our dataset."
   ]
  },
  {
   "cell_type": "code",
   "execution_count": 7,
   "metadata": {},
   "outputs": [],
   "source": [
    "# shuffle dataset\n",
    "data = data.sample(frac=1)"
   ]
  },
  {
   "cell_type": "code",
   "execution_count": 10,
   "metadata": {},
   "outputs": [],
   "source": [
    "data_sample = data.sample(10000)"
   ]
  },
  {
   "cell_type": "code",
   "execution_count": 16,
   "metadata": {},
   "outputs": [
    {
     "data": {
      "text/html": [
       "<div>\n",
       "<style scoped>\n",
       "    .dataframe tbody tr th:only-of-type {\n",
       "        vertical-align: middle;\n",
       "    }\n",
       "\n",
       "    .dataframe tbody tr th {\n",
       "        vertical-align: top;\n",
       "    }\n",
       "\n",
       "    .dataframe thead th {\n",
       "        text-align: right;\n",
       "    }\n",
       "</style>\n",
       "<table border=\"1\" class=\"dataframe\">\n",
       "  <thead>\n",
       "    <tr style=\"text-align: right;\">\n",
       "      <th></th>\n",
       "      <th>ID</th>\n",
       "      <th>Case Number</th>\n",
       "      <th>Date</th>\n",
       "      <th>Block</th>\n",
       "      <th>IUCR</th>\n",
       "      <th>Primary Type</th>\n",
       "      <th>Description</th>\n",
       "      <th>Location Description</th>\n",
       "      <th>Arrest</th>\n",
       "      <th>Domestic</th>\n",
       "      <th>...</th>\n",
       "      <th>Ward</th>\n",
       "      <th>Community Area</th>\n",
       "      <th>FBI Code</th>\n",
       "      <th>X Coordinate</th>\n",
       "      <th>Y Coordinate</th>\n",
       "      <th>Year</th>\n",
       "      <th>Updated On</th>\n",
       "      <th>Latitude</th>\n",
       "      <th>Longitude</th>\n",
       "      <th>Location</th>\n",
       "    </tr>\n",
       "  </thead>\n",
       "  <tbody>\n",
       "    <tr>\n",
       "      <th>2461664</th>\n",
       "      <td>3104475</td>\n",
       "      <td>HJ834256</td>\n",
       "      <td>12/23/2003 08:20:00 AM</td>\n",
       "      <td>003XX S MAPLEWOOD AVE</td>\n",
       "      <td>0810</td>\n",
       "      <td>THEFT</td>\n",
       "      <td>OVER $500</td>\n",
       "      <td>STREET</td>\n",
       "      <td>False</td>\n",
       "      <td>False</td>\n",
       "      <td>...</td>\n",
       "      <td>2.0</td>\n",
       "      <td>28.0</td>\n",
       "      <td>06</td>\n",
       "      <td>1159433.0</td>\n",
       "      <td>1898327.0</td>\n",
       "      <td>2003</td>\n",
       "      <td>02/28/2018 03:56:25 PM</td>\n",
       "      <td>41.876730</td>\n",
       "      <td>-87.690076</td>\n",
       "      <td>(41.876730394, -87.690075979)</td>\n",
       "    </tr>\n",
       "    <tr>\n",
       "      <th>3299463</th>\n",
       "      <td>4400130</td>\n",
       "      <td>HL639635</td>\n",
       "      <td>09/27/2005 08:11:15 PM</td>\n",
       "      <td>070XX S EGGLESTON AVE</td>\n",
       "      <td>1822</td>\n",
       "      <td>NARCOTICS</td>\n",
       "      <td>MANU/DEL:CANNABIS OVER 10 GMS</td>\n",
       "      <td>SIDEWALK</td>\n",
       "      <td>True</td>\n",
       "      <td>False</td>\n",
       "      <td>...</td>\n",
       "      <td>6.0</td>\n",
       "      <td>68.0</td>\n",
       "      <td>18</td>\n",
       "      <td>1174495.0</td>\n",
       "      <td>1858312.0</td>\n",
       "      <td>2005</td>\n",
       "      <td>02/28/2018 03:56:25 PM</td>\n",
       "      <td>41.766603</td>\n",
       "      <td>-87.635966</td>\n",
       "      <td>(41.766602557, -87.635965849)</td>\n",
       "    </tr>\n",
       "    <tr>\n",
       "      <th>1239439</th>\n",
       "      <td>1503975</td>\n",
       "      <td>G243815</td>\n",
       "      <td>04/29/2001 03:05:00 AM</td>\n",
       "      <td>061XX S WOLCOTT AV</td>\n",
       "      <td>0320</td>\n",
       "      <td>ROBBERY</td>\n",
       "      <td>STRONGARM - NO WEAPON</td>\n",
       "      <td>STREET</td>\n",
       "      <td>False</td>\n",
       "      <td>False</td>\n",
       "      <td>...</td>\n",
       "      <td>NaN</td>\n",
       "      <td>NaN</td>\n",
       "      <td>03</td>\n",
       "      <td>1164777.0</td>\n",
       "      <td>1864076.0</td>\n",
       "      <td>2001</td>\n",
       "      <td>08/17/2015 03:03:40 PM</td>\n",
       "      <td>41.782630</td>\n",
       "      <td>-87.671423</td>\n",
       "      <td>(41.782630429, -87.671423464)</td>\n",
       "    </tr>\n",
       "  </tbody>\n",
       "</table>\n",
       "<p>3 rows × 22 columns</p>\n",
       "</div>"
      ],
      "text/plain": [
       "              ID Case Number                    Date                  Block  \\\n",
       "2461664  3104475    HJ834256  12/23/2003 08:20:00 AM  003XX S MAPLEWOOD AVE   \n",
       "3299463  4400130    HL639635  09/27/2005 08:11:15 PM  070XX S EGGLESTON AVE   \n",
       "1239439  1503975     G243815  04/29/2001 03:05:00 AM     061XX S WOLCOTT AV   \n",
       "\n",
       "         IUCR Primary Type                    Description  \\\n",
       "2461664  0810        THEFT                      OVER $500   \n",
       "3299463  1822    NARCOTICS  MANU/DEL:CANNABIS OVER 10 GMS   \n",
       "1239439  0320      ROBBERY          STRONGARM - NO WEAPON   \n",
       "\n",
       "        Location Description  Arrest  Domestic  ...  Ward  Community Area  \\\n",
       "2461664               STREET   False     False  ...   2.0            28.0   \n",
       "3299463             SIDEWALK    True     False  ...   6.0            68.0   \n",
       "1239439               STREET   False     False  ...   NaN             NaN   \n",
       "\n",
       "         FBI Code  X Coordinate Y Coordinate  Year              Updated On  \\\n",
       "2461664        06     1159433.0    1898327.0  2003  02/28/2018 03:56:25 PM   \n",
       "3299463        18     1174495.0    1858312.0  2005  02/28/2018 03:56:25 PM   \n",
       "1239439        03     1164777.0    1864076.0  2001  08/17/2015 03:03:40 PM   \n",
       "\n",
       "          Latitude  Longitude                       Location  \n",
       "2461664  41.876730 -87.690076  (41.876730394, -87.690075979)  \n",
       "3299463  41.766603 -87.635966  (41.766602557, -87.635965849)  \n",
       "1239439  41.782630 -87.671423  (41.782630429, -87.671423464)  \n",
       "\n",
       "[3 rows x 22 columns]"
      ]
     },
     "execution_count": 16,
     "metadata": {},
     "output_type": "execute_result"
    }
   ],
   "source": [
    "data_sample.head(3)"
   ]
  },
  {
   "cell_type": "code",
   "execution_count": 18,
   "metadata": {},
   "outputs": [
    {
     "data": {
      "text/plain": [
       "Index(['ID', 'Case Number', 'Date', 'Block', 'IUCR', 'Primary Type',\n",
       "       'Description', 'Location Description', 'Arrest', 'Domestic', 'Beat',\n",
       "       'District', 'Ward', 'Community Area', 'FBI Code', 'X Coordinate',\n",
       "       'Y Coordinate', 'Year', 'Updated On', 'Latitude', 'Longitude',\n",
       "       'Location'],\n",
       "      dtype='object')"
      ]
     },
     "execution_count": 18,
     "metadata": {},
     "output_type": "execute_result"
    }
   ],
   "source": [
    "data_sample.columns"
   ]
  },
  {
   "cell_type": "markdown",
   "metadata": {},
   "source": [
    "Let's try to predict if someone is committing a murder or not"
   ]
  },
  {
   "cell_type": "code",
   "execution_count": null,
   "metadata": {},
   "outputs": [],
   "source": []
  }
 ],
 "metadata": {
  "colab": {
   "provenance": []
  },
  "kernelspec": {
   "display_name": "Python 3.8 (tensorflow)",
   "language": "python",
   "name": "tensorflow"
  },
  "language_info": {
   "codemirror_mode": {
    "name": "ipython",
    "version": 3
   },
   "file_extension": ".py",
   "mimetype": "text/x-python",
   "name": "python",
   "nbconvert_exporter": "python",
   "pygments_lexer": "ipython3",
   "version": "3.9.13"
  }
 },
 "nbformat": 4,
 "nbformat_minor": 1
}
